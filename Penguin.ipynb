{
 "cells": [
  {
   "cell_type": "code",
   "execution_count": null,
   "id": "3a4c68d6",
   "metadata": {},
   "outputs": [],
   "source": [
    "import pandas as pd\n",
    "import seaborn as sns\n",
    "import matplotlib.pyplot as plt\n",
    "#Frederico Fragoso Franke\n",
    "#Pedro Henrique Fernandes Tomielo"
   ]
  },
  {
   "cell_type": "markdown",
   "id": "efedff86",
   "metadata": {},
   "source": [
    "I) Etapa Teórica"
   ]
  },
  {
   "cell_type": "code",
   "execution_count": 3,
   "id": "6438d59e",
   "metadata": {},
   "outputs": [
    {
     "name": "stdout",
     "output_type": "stream",
     "text": [
      "     f1    f2      f3     f4\n",
      "0  0.02  True     red   8.25\n",
      "1 -2.00  True     red   1.35\n",
      "2  0.57  True  yellow  21.86\n",
      "3  1.00  True   black   3.06\n",
      "4 -2.00  True   black   1.58\n",
      "5  0.84  True     red   1.25\n",
      "6  0.66  True     red   1.68\n",
      "7 -1.00  True  yellow   1.01\n",
      "8  0.44  True     red   1.19\n",
      "9  0.32  True     red   1.47\n"
     ]
    }
   ],
   "source": [
    "dados = {\n",
    "    'f1': ['0.02','-2','0.57','1','-2','0.84','0.66','-1','0.44','0.32' ],\n",
    "    'f2': ['True','False','True','False','True','True','False','False','True','True' ],\n",
    "    'f3': ['red','red','yellow','black','black','red','red','yellow','red','red' ],\n",
    "    'f4': ['8.25','1.35','21.86','3.06','1.58','1.25','1.68','1.01','1.19','1.47' ]\n",
    "}\n",
    "tabela_df = pd.DataFrame(dados)\n",
    "tabela_df['f1'] = tabela_df['f1'].astype(float)\n",
    "tabela_df['f2'] = tabela_df['f2'].astype(bool)\n",
    "tabela_df['f4'] = tabela_df['f4'].astype(float)\n",
    "print(tabela_df)"
   ]
  },
  {
   "cell_type": "markdown",
   "id": "26c9e7c8",
   "metadata": {},
   "source": [
    "1) Quais atributos são categóricos e quais atributos são numéricos?\n",
    "Apenas com as informações dadas é possível identificar dentre os\n",
    "atributos numéricos quais são os tipos?\n",
    "\n",
    "F1 e F4 sao numericos provavelmente continuos por que sao float F2 e F3 sao categoricos."
   ]
  },
  {
   "cell_type": "markdown",
   "id": "25ab2f99",
   "metadata": {},
   "source": [
    "2) Qual a moda de f3:"
   ]
  },
  {
   "cell_type": "code",
   "execution_count": null,
   "id": "ea461e95",
   "metadata": {},
   "outputs": [
    {
     "name": "stdout",
     "output_type": "stream",
     "text": [
      "moda da coluna f3: red \n"
     ]
    }
   ],
   "source": [
    "moda_f3 = tabela_df['f3'].mode()\n",
    "print(f\"moda da coluna f3: {moda_f3.iloc[0]} \")"
   ]
  },
  {
   "cell_type": "markdown",
   "id": "737d800b",
   "metadata": {},
   "source": [
    "3) Compute a média, mediana, desvio padrão, variância, dos atributos\n",
    "f1 e f4"
   ]
  },
  {
   "cell_type": "code",
   "execution_count": null,
   "id": "d9a218c5",
   "metadata": {},
   "outputs": [
    {
     "name": "stdout",
     "output_type": "stream",
     "text": [
      "Coluna f1:\n",
      "  Média: 1.1368\n",
      "  Mediana: 0.3800\n",
      "  Desvio Padrão: 1.1368\n",
      "  Variância: 1.2923\n",
      "\n",
      "Coluna f4:\n",
      "  Média: 6.5511\n",
      "  Mediana: 1.5250\n",
      "  Desvio Padrão: 6.5511\n",
      "  Variância: 42.9175\n",
      "\n"
     ]
    }
   ],
   "source": [
    "colunas = ['f1','f4']\n",
    "for col in colunas:\n",
    "    media = tabela_df[col].mean()\n",
    "    mediana = tabela_df[col].median()\n",
    "    desvio = media = tabela_df[col].std()\n",
    "    var = tabela_df[col].var()\n",
    "\n",
    "    print(f\"Coluna {col}:\")\n",
    "    print(f\"  Média: {media:.4f}\")\n",
    "    print(f\"  Mediana: {mediana:.4f}\")\n",
    "    print(f\"  Desvio Padrão: {desvio:.4f}\")\n",
    "    print(f\"  Variância: {var:.4f}\\n\")"
   ]
  },
  {
   "cell_type": "markdown",
   "id": "bf082e01",
   "metadata": {},
   "source": [
    "4) Calcule a covariância entre os atributos f1 e f4"
   ]
  },
  {
   "cell_type": "code",
   "execution_count": null,
   "id": "1b120206",
   "metadata": {},
   "outputs": [
    {
     "name": "stdout",
     "output_type": "stream",
     "text": [
      "Covariancia entre f1 e f4: 1.8754\n"
     ]
    }
   ],
   "source": [
    "cov_f1_f4 = tabela_df['f1'].cov(tabela_df['f4'])\n",
    "print(f\"Covariancia entre f1 e f4: {cov_f1_f4:.4f}\")"
   ]
  },
  {
   "cell_type": "markdown",
   "id": "5a9b3c40",
   "metadata": {},
   "source": [
    "5) Calcule a correlação existente entre os atributos f1 e f4"
   ]
  },
  {
   "cell_type": "code",
   "execution_count": null,
   "id": "3d382f4c",
   "metadata": {},
   "outputs": [
    {
     "name": "stdout",
     "output_type": "stream",
     "text": [
      "Correlação entre f1 e f4: 0.2518\n"
     ]
    }
   ],
   "source": [
    "cor_f1_f4 = tabela_df['f1'].corr(tabela_df['f4'])\n",
    "print(f\"Correlação entre f1 e f4: {cor_f1_f4:.4f}\")"
   ]
  },
  {
   "cell_type": "markdown",
   "id": "460e43f3",
   "metadata": {},
   "source": [
    "II) Etapa Prática"
   ]
  },
  {
   "cell_type": "code",
   "execution_count": null,
   "id": "670c59b6",
   "metadata": {},
   "outputs": [
    {
     "data": {
      "text/html": [
       "<div>\n",
       "<style scoped>\n",
       "    .dataframe tbody tr th:only-of-type {\n",
       "        vertical-align: middle;\n",
       "    }\n",
       "\n",
       "    .dataframe tbody tr th {\n",
       "        vertical-align: top;\n",
       "    }\n",
       "\n",
       "    .dataframe thead th {\n",
       "        text-align: right;\n",
       "    }\n",
       "</style>\n",
       "<table border=\"1\" class=\"dataframe\">\n",
       "  <thead>\n",
       "    <tr style=\"text-align: right;\">\n",
       "      <th></th>\n",
       "      <th>studyName</th>\n",
       "      <th>Sample Number</th>\n",
       "      <th>Species</th>\n",
       "      <th>Region</th>\n",
       "      <th>Island</th>\n",
       "      <th>Stage</th>\n",
       "      <th>Individual ID</th>\n",
       "      <th>Clutch Completion</th>\n",
       "      <th>Date Egg</th>\n",
       "      <th>Culmen Length (mm)</th>\n",
       "      <th>Culmen Depth (mm)</th>\n",
       "      <th>Flipper Length (mm)</th>\n",
       "      <th>Body Mass (g)</th>\n",
       "      <th>Sex</th>\n",
       "      <th>Delta 15 N (o/oo)</th>\n",
       "      <th>Delta 13 C (o/oo)</th>\n",
       "      <th>Comments</th>\n",
       "    </tr>\n",
       "  </thead>\n",
       "  <tbody>\n",
       "    <tr>\n",
       "      <th>0</th>\n",
       "      <td>PAL0708</td>\n",
       "      <td>1</td>\n",
       "      <td>Adelie Penguin (Pygoscelis adeliae)</td>\n",
       "      <td>Anvers</td>\n",
       "      <td>Torgersen</td>\n",
       "      <td>Adult, 1 Egg Stage</td>\n",
       "      <td>N1A1</td>\n",
       "      <td>Yes</td>\n",
       "      <td>2007-11-11</td>\n",
       "      <td>39.1</td>\n",
       "      <td>18.7</td>\n",
       "      <td>181.0</td>\n",
       "      <td>3750.0</td>\n",
       "      <td>MALE</td>\n",
       "      <td>NaN</td>\n",
       "      <td>NaN</td>\n",
       "      <td>Not enough blood for isotopes.</td>\n",
       "    </tr>\n",
       "    <tr>\n",
       "      <th>1</th>\n",
       "      <td>PAL0708</td>\n",
       "      <td>2</td>\n",
       "      <td>Adelie Penguin (Pygoscelis adeliae)</td>\n",
       "      <td>Anvers</td>\n",
       "      <td>Torgersen</td>\n",
       "      <td>Adult, 1 Egg Stage</td>\n",
       "      <td>N1A2</td>\n",
       "      <td>Yes</td>\n",
       "      <td>2007-11-11</td>\n",
       "      <td>39.5</td>\n",
       "      <td>17.4</td>\n",
       "      <td>186.0</td>\n",
       "      <td>3800.0</td>\n",
       "      <td>FEMALE</td>\n",
       "      <td>8.94956</td>\n",
       "      <td>-24.69454</td>\n",
       "      <td>NaN</td>\n",
       "    </tr>\n",
       "    <tr>\n",
       "      <th>2</th>\n",
       "      <td>PAL0708</td>\n",
       "      <td>3</td>\n",
       "      <td>Adelie Penguin (Pygoscelis adeliae)</td>\n",
       "      <td>Anvers</td>\n",
       "      <td>Torgersen</td>\n",
       "      <td>Adult, 1 Egg Stage</td>\n",
       "      <td>N2A1</td>\n",
       "      <td>Yes</td>\n",
       "      <td>2007-11-16</td>\n",
       "      <td>40.3</td>\n",
       "      <td>18.0</td>\n",
       "      <td>195.0</td>\n",
       "      <td>3250.0</td>\n",
       "      <td>FEMALE</td>\n",
       "      <td>8.36821</td>\n",
       "      <td>-25.33302</td>\n",
       "      <td>NaN</td>\n",
       "    </tr>\n",
       "    <tr>\n",
       "      <th>3</th>\n",
       "      <td>PAL0708</td>\n",
       "      <td>4</td>\n",
       "      <td>Adelie Penguin (Pygoscelis adeliae)</td>\n",
       "      <td>Anvers</td>\n",
       "      <td>Torgersen</td>\n",
       "      <td>Adult, 1 Egg Stage</td>\n",
       "      <td>N2A2</td>\n",
       "      <td>Yes</td>\n",
       "      <td>2007-11-16</td>\n",
       "      <td>NaN</td>\n",
       "      <td>NaN</td>\n",
       "      <td>NaN</td>\n",
       "      <td>NaN</td>\n",
       "      <td>NaN</td>\n",
       "      <td>NaN</td>\n",
       "      <td>NaN</td>\n",
       "      <td>Adult not sampled.</td>\n",
       "    </tr>\n",
       "    <tr>\n",
       "      <th>4</th>\n",
       "      <td>PAL0708</td>\n",
       "      <td>5</td>\n",
       "      <td>Adelie Penguin (Pygoscelis adeliae)</td>\n",
       "      <td>Anvers</td>\n",
       "      <td>Torgersen</td>\n",
       "      <td>Adult, 1 Egg Stage</td>\n",
       "      <td>N3A1</td>\n",
       "      <td>Yes</td>\n",
       "      <td>2007-11-16</td>\n",
       "      <td>36.7</td>\n",
       "      <td>19.3</td>\n",
       "      <td>193.0</td>\n",
       "      <td>3450.0</td>\n",
       "      <td>FEMALE</td>\n",
       "      <td>8.76651</td>\n",
       "      <td>-25.32426</td>\n",
       "      <td>NaN</td>\n",
       "    </tr>\n",
       "    <tr>\n",
       "      <th>...</th>\n",
       "      <td>...</td>\n",
       "      <td>...</td>\n",
       "      <td>...</td>\n",
       "      <td>...</td>\n",
       "      <td>...</td>\n",
       "      <td>...</td>\n",
       "      <td>...</td>\n",
       "      <td>...</td>\n",
       "      <td>...</td>\n",
       "      <td>...</td>\n",
       "      <td>...</td>\n",
       "      <td>...</td>\n",
       "      <td>...</td>\n",
       "      <td>...</td>\n",
       "      <td>...</td>\n",
       "      <td>...</td>\n",
       "      <td>...</td>\n",
       "    </tr>\n",
       "    <tr>\n",
       "      <th>339</th>\n",
       "      <td>PAL0910</td>\n",
       "      <td>64</td>\n",
       "      <td>Chinstrap penguin (Pygoscelis antarctica)</td>\n",
       "      <td>Anvers</td>\n",
       "      <td>Dream</td>\n",
       "      <td>Adult, 1 Egg Stage</td>\n",
       "      <td>N98A2</td>\n",
       "      <td>Yes</td>\n",
       "      <td>2009-11-19</td>\n",
       "      <td>55.8</td>\n",
       "      <td>19.8</td>\n",
       "      <td>207.0</td>\n",
       "      <td>4000.0</td>\n",
       "      <td>MALE</td>\n",
       "      <td>9.70465</td>\n",
       "      <td>-24.53494</td>\n",
       "      <td>NaN</td>\n",
       "    </tr>\n",
       "    <tr>\n",
       "      <th>340</th>\n",
       "      <td>PAL0910</td>\n",
       "      <td>65</td>\n",
       "      <td>Chinstrap penguin (Pygoscelis antarctica)</td>\n",
       "      <td>Anvers</td>\n",
       "      <td>Dream</td>\n",
       "      <td>Adult, 1 Egg Stage</td>\n",
       "      <td>N99A1</td>\n",
       "      <td>No</td>\n",
       "      <td>2009-11-21</td>\n",
       "      <td>43.5</td>\n",
       "      <td>18.1</td>\n",
       "      <td>202.0</td>\n",
       "      <td>3400.0</td>\n",
       "      <td>FEMALE</td>\n",
       "      <td>9.37608</td>\n",
       "      <td>-24.40753</td>\n",
       "      <td>Nest never observed with full clutch.</td>\n",
       "    </tr>\n",
       "    <tr>\n",
       "      <th>341</th>\n",
       "      <td>PAL0910</td>\n",
       "      <td>66</td>\n",
       "      <td>Chinstrap penguin (Pygoscelis antarctica)</td>\n",
       "      <td>Anvers</td>\n",
       "      <td>Dream</td>\n",
       "      <td>Adult, 1 Egg Stage</td>\n",
       "      <td>N99A2</td>\n",
       "      <td>No</td>\n",
       "      <td>2009-11-21</td>\n",
       "      <td>49.6</td>\n",
       "      <td>18.2</td>\n",
       "      <td>193.0</td>\n",
       "      <td>3775.0</td>\n",
       "      <td>MALE</td>\n",
       "      <td>9.46180</td>\n",
       "      <td>-24.70615</td>\n",
       "      <td>Nest never observed with full clutch.</td>\n",
       "    </tr>\n",
       "    <tr>\n",
       "      <th>342</th>\n",
       "      <td>PAL0910</td>\n",
       "      <td>67</td>\n",
       "      <td>Chinstrap penguin (Pygoscelis antarctica)</td>\n",
       "      <td>Anvers</td>\n",
       "      <td>Dream</td>\n",
       "      <td>Adult, 1 Egg Stage</td>\n",
       "      <td>N100A1</td>\n",
       "      <td>Yes</td>\n",
       "      <td>2009-11-21</td>\n",
       "      <td>50.8</td>\n",
       "      <td>19.0</td>\n",
       "      <td>210.0</td>\n",
       "      <td>4100.0</td>\n",
       "      <td>MALE</td>\n",
       "      <td>9.98044</td>\n",
       "      <td>-24.68741</td>\n",
       "      <td>NaN</td>\n",
       "    </tr>\n",
       "    <tr>\n",
       "      <th>343</th>\n",
       "      <td>PAL0910</td>\n",
       "      <td>68</td>\n",
       "      <td>Chinstrap penguin (Pygoscelis antarctica)</td>\n",
       "      <td>Anvers</td>\n",
       "      <td>Dream</td>\n",
       "      <td>Adult, 1 Egg Stage</td>\n",
       "      <td>N100A2</td>\n",
       "      <td>Yes</td>\n",
       "      <td>2009-11-21</td>\n",
       "      <td>50.2</td>\n",
       "      <td>18.7</td>\n",
       "      <td>198.0</td>\n",
       "      <td>3775.0</td>\n",
       "      <td>FEMALE</td>\n",
       "      <td>9.39305</td>\n",
       "      <td>-24.25255</td>\n",
       "      <td>NaN</td>\n",
       "    </tr>\n",
       "  </tbody>\n",
       "</table>\n",
       "<p>344 rows × 17 columns</p>\n",
       "</div>"
      ],
      "text/plain": [
       "    studyName  Sample Number                                    Species  \\\n",
       "0     PAL0708              1        Adelie Penguin (Pygoscelis adeliae)   \n",
       "1     PAL0708              2        Adelie Penguin (Pygoscelis adeliae)   \n",
       "2     PAL0708              3        Adelie Penguin (Pygoscelis adeliae)   \n",
       "3     PAL0708              4        Adelie Penguin (Pygoscelis adeliae)   \n",
       "4     PAL0708              5        Adelie Penguin (Pygoscelis adeliae)   \n",
       "..        ...            ...                                        ...   \n",
       "339   PAL0910             64  Chinstrap penguin (Pygoscelis antarctica)   \n",
       "340   PAL0910             65  Chinstrap penguin (Pygoscelis antarctica)   \n",
       "341   PAL0910             66  Chinstrap penguin (Pygoscelis antarctica)   \n",
       "342   PAL0910             67  Chinstrap penguin (Pygoscelis antarctica)   \n",
       "343   PAL0910             68  Chinstrap penguin (Pygoscelis antarctica)   \n",
       "\n",
       "     Region     Island               Stage Individual ID Clutch Completion  \\\n",
       "0    Anvers  Torgersen  Adult, 1 Egg Stage          N1A1               Yes   \n",
       "1    Anvers  Torgersen  Adult, 1 Egg Stage          N1A2               Yes   \n",
       "2    Anvers  Torgersen  Adult, 1 Egg Stage          N2A1               Yes   \n",
       "3    Anvers  Torgersen  Adult, 1 Egg Stage          N2A2               Yes   \n",
       "4    Anvers  Torgersen  Adult, 1 Egg Stage          N3A1               Yes   \n",
       "..      ...        ...                 ...           ...               ...   \n",
       "339  Anvers      Dream  Adult, 1 Egg Stage         N98A2               Yes   \n",
       "340  Anvers      Dream  Adult, 1 Egg Stage         N99A1                No   \n",
       "341  Anvers      Dream  Adult, 1 Egg Stage         N99A2                No   \n",
       "342  Anvers      Dream  Adult, 1 Egg Stage        N100A1               Yes   \n",
       "343  Anvers      Dream  Adult, 1 Egg Stage        N100A2               Yes   \n",
       "\n",
       "       Date Egg  Culmen Length (mm)  Culmen Depth (mm)  Flipper Length (mm)  \\\n",
       "0    2007-11-11                39.1               18.7                181.0   \n",
       "1    2007-11-11                39.5               17.4                186.0   \n",
       "2    2007-11-16                40.3               18.0                195.0   \n",
       "3    2007-11-16                 NaN                NaN                  NaN   \n",
       "4    2007-11-16                36.7               19.3                193.0   \n",
       "..          ...                 ...                ...                  ...   \n",
       "339  2009-11-19                55.8               19.8                207.0   \n",
       "340  2009-11-21                43.5               18.1                202.0   \n",
       "341  2009-11-21                49.6               18.2                193.0   \n",
       "342  2009-11-21                50.8               19.0                210.0   \n",
       "343  2009-11-21                50.2               18.7                198.0   \n",
       "\n",
       "     Body Mass (g)     Sex  Delta 15 N (o/oo)  Delta 13 C (o/oo)  \\\n",
       "0           3750.0    MALE                NaN                NaN   \n",
       "1           3800.0  FEMALE            8.94956          -24.69454   \n",
       "2           3250.0  FEMALE            8.36821          -25.33302   \n",
       "3              NaN     NaN                NaN                NaN   \n",
       "4           3450.0  FEMALE            8.76651          -25.32426   \n",
       "..             ...     ...                ...                ...   \n",
       "339         4000.0    MALE            9.70465          -24.53494   \n",
       "340         3400.0  FEMALE            9.37608          -24.40753   \n",
       "341         3775.0    MALE            9.46180          -24.70615   \n",
       "342         4100.0    MALE            9.98044          -24.68741   \n",
       "343         3775.0  FEMALE            9.39305          -24.25255   \n",
       "\n",
       "                                  Comments  \n",
       "0           Not enough blood for isotopes.  \n",
       "1                                      NaN  \n",
       "2                                      NaN  \n",
       "3                       Adult not sampled.  \n",
       "4                                      NaN  \n",
       "..                                     ...  \n",
       "339                                    NaN  \n",
       "340  Nest never observed with full clutch.  \n",
       "341  Nest never observed with full clutch.  \n",
       "342                                    NaN  \n",
       "343                                    NaN  \n",
       "\n",
       "[344 rows x 17 columns]"
      ]
     },
     "execution_count": 28,
     "metadata": {},
     "output_type": "execute_result"
    }
   ],
   "source": [
    "df = pd.read_csv(\"penguins.csv \")\n",
    "df"
   ]
  },
  {
   "cell_type": "code",
   "execution_count": 29,
   "id": "f4ad16c4",
   "metadata": {},
   "outputs": [
    {
     "name": "stdout",
     "output_type": "stream",
     "text": [
      "studyName               object\n",
      "Sample Number            int64\n",
      "Species                 object\n",
      "Region                  object\n",
      "Island                  object\n",
      "Stage                   object\n",
      "Individual ID           object\n",
      "Clutch Completion       object\n",
      "Date Egg                object\n",
      "Culmen Length (mm)     float64\n",
      "Culmen Depth (mm)      float64\n",
      "Flipper Length (mm)    float64\n",
      "Body Mass (g)          float64\n",
      "Sex                     object\n",
      "Delta 15 N (o/oo)      float64\n",
      "Delta 13 C (o/oo)      float64\n",
      "Comments                object\n",
      "dtype: object\n"
     ]
    }
   ],
   "source": [
    "print(df.dtypes)"
   ]
  },
  {
   "cell_type": "markdown",
   "id": "b5bd3ded",
   "metadata": {},
   "source": [
    "1) Considerando que a variável target refere-se a espécie do pinguim, quais são as features\n",
    "categóricas e numéricas que temos disponíveis?"
   ]
  },
  {
   "cell_type": "code",
   "execution_count": 21,
   "id": "e4e6883d",
   "metadata": {},
   "outputs": [
    {
     "name": "stdout",
     "output_type": "stream",
     "text": [
      "categóricas: ['studyName', 'Species', 'Region', 'Island', 'Stage', 'Individual ID', 'Clutch Completion', 'Date Egg', 'Sex', 'Comments']\n",
      "numéricas: ['Sample Number', 'Culmen Length (mm)', 'Culmen Depth (mm)', 'Flipper Length (mm)', 'Body Mass (g)', 'Delta 15 N (o/oo)', 'Delta 13 C (o/oo)']\n"
     ]
    }
   ],
   "source": [
    "categoricas = df.select_dtypes(include=[\"object\"]).columns.tolist()\n",
    "numericas = df.select_dtypes(include=[\"int64\",\"float64\"]).columns.tolist()\n",
    "print(\"categóricas:\", categoricas)\n",
    "print(\"numéricas:\", numericas)"
   ]
  },
  {
   "cell_type": "markdown",
   "id": "3c2b6cec",
   "metadata": {},
   "source": [
    "2) Existem dados faltantes no conjunto de dados? Quantos e em quais features?"
   ]
  },
  {
   "cell_type": "code",
   "execution_count": 23,
   "id": "a137b6a8",
   "metadata": {},
   "outputs": [
    {
     "name": "stdout",
     "output_type": "stream",
     "text": [
      "studyName                0\n",
      "Sample Number            0\n",
      "Species                  0\n",
      "Region                   0\n",
      "Island                   0\n",
      "Stage                    0\n",
      "Individual ID            0\n",
      "Clutch Completion        0\n",
      "Date Egg                 0\n",
      "Culmen Length (mm)       2\n",
      "Culmen Depth (mm)        2\n",
      "Flipper Length (mm)      2\n",
      "Body Mass (g)            2\n",
      "Sex                     10\n",
      "Delta 15 N (o/oo)       14\n",
      "Delta 13 C (o/oo)       13\n",
      "Comments               290\n",
      "dtype: int64\n"
     ]
    }
   ],
   "source": [
    "print(df.isnull().sum())"
   ]
  },
  {
   "cell_type": "markdown",
   "id": "731e45fc",
   "metadata": {},
   "source": [
    "3) Quais espécies de pinguim existem no conjunto de dados? As classes estão balanceadas?"
   ]
  },
  {
   "cell_type": "code",
   "execution_count": null,
   "id": "f2a8c4d6",
   "metadata": {},
   "outputs": [
    {
     "name": "stdout",
     "output_type": "stream",
     "text": [
      "['Adelie Penguin (Pygoscelis adeliae)' 'Gentoo penguin (Pygoscelis papua)'\n",
      " 'Chinstrap penguin (Pygoscelis antarctica)']\n",
      "Species\n",
      "Adelie Penguin (Pygoscelis adeliae)          152\n",
      "Gentoo penguin (Pygoscelis papua)            124\n",
      "Chinstrap penguin (Pygoscelis antarctica)     68\n",
      "Name: count, dtype: int64\n"
     ]
    }
   ],
   "source": [
    "print(df[\"Species\"].unique())\n",
    "print(df[\"Species\"].value_counts())\n",
    "#portanto nao estao balanceados"
   ]
  },
  {
   "cell_type": "markdown",
   "id": "7c3955f1",
   "metadata": {},
   "source": [
    "4) Pesquise como plotar um boxplot usando a biblioteca Seaborn. Escreva o código necessário\n",
    "para criar o gráfico mostrado a seguir. Escreva uma pequena análise sobre o gráfico gerado."
   ]
  },
  {
   "cell_type": "code",
   "execution_count": 45,
   "id": "109e6a32",
   "metadata": {},
   "outputs": [
    {
     "data": {
      "text/plain": [
       "<matplotlib.legend.Legend at 0x231fb164b90>"
      ]
     },
     "execution_count": 45,
     "metadata": {},
     "output_type": "execute_result"
    },
    {
     "data": {
      "image/png": "[encoded data removed]",
      "text/plain": [
       "<Figure size 640x480 with 1 Axes>"
      ]
     },
     "metadata": {},
     "output_type": "display_data"
    }
   ],
   "source": [
    "sns.boxplot(x=\"Island\",y=\"Culmen Length (mm)\",hue= \"Species\",data = df)\n",
    "plt.legend(title = \"Species\",bbox_to_anchor=(1.05, 1), loc='upper left', borderaxespad=0)\n",
    "#podemos descobrir a partir do grafico abaixo que o comprimento medio do culmen(parte superior do bico) dos penguins da especie Adelie tem uma media de comprimento muito parecidos independente da ilha que ele se localize ja a especie Gentoo possui o maior comprimento de bico"
   ]
  },
  {
   "cell_type": "markdown",
   "id": "50979d65",
   "metadata": {},
   "source": [
    "5) Faça o mesmo para o seguinte scatter plot."
   ]
  },
  {
   "cell_type": "code",
   "execution_count": 46,
   "id": "24e344ad",
   "metadata": {},
   "outputs": [
    {
     "data": {
      "text/plain": [
       "<matplotlib.legend.Legend at 0x231fb2a8f50>"
      ]
     },
     "execution_count": 46,
     "metadata": {},
     "output_type": "execute_result"
    },
    {
     "data": {
      "image/png": "[encoded data removed]",
      "text/plain": [
       "<Figure size 640x480 with 1 Axes>"
      ]
     },
     "metadata": {},
     "output_type": "display_data"
    }
   ],
   "source": [
    "sns.scatterplot(x = \"Culmen Length (mm)\", y = \"Culmen Depth (mm)\",hue = \"Species\" , data = df)\n",
    "plt.legend(title = \"Species\",bbox_to_anchor=(1.05, 1), loc='upper left', borderaxespad=0)"
   ]
  }
 ],
 "metadata": {
  "kernelspec": {
   "display_name": "Python (venv)",
   "language": "python",
   "name": "venv"
  },
  "language_info": {
   "codemirror_mode": {
    "name": "ipython",
    "version": 3
   },
   "file_extension": ".py",
   "mimetype": "text/x-python",
   "name": "python",
   "nbconvert_exporter": "python",
   "pygments_lexer": "ipython3",
   "version": "3.13.8"
  }
 },
 "nbformat": 4,
 "nbformat_minor": 5
}
