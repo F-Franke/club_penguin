{
 "cells": [
  {
   "cell_type": "code",
   "execution_count": null,
   "id": "3a4c68d6",
   "metadata": {},
   "outputs": [],
   "source": [
    "import pandas as pd"
   ]
  },
  {
   "cell_type": "code",
   "execution_count": null,
   "id": "6438d59e",
   "metadata": {},
   "outputs": [
    {
     "name": "stdout",
     "output_type": "stream",
     "text": [
      "     f1    f2      f3     f4\n",
      "0  0.02  True     red   8.25\n",
      "1 -2.00  True     red   1.35\n",
      "2  0.57  True  yellow  21.86\n",
      "3  1.00  True   black   3.06\n",
      "4 -2.00  True   black   1.58\n",
      "5  0.84  True     red   1.25\n",
      "6  0.66  True     red   1.68\n",
      "7 -1.00  True  yellow   1.01\n",
      "8  0.44  True     red   1.19\n",
      "9  0.32  True     red   1.47\n"
     ]
    }
   ],
   "source": [
    "dados = {\n",
    "    'f1': ['0.02','-2','0.57','1','-2','0.84','0.66','-1','0.44','0.32' ],\n",
    "    'f2': ['True','False','True','False','True','True','False','False','True','True' ],\n",
    "    'f3': ['red','red','yellow','black','black','red','red','yellow','red','red' ],\n",
    "    'f4': ['8.25','1.35','21.86','3.06','1.58','1.25','1.68','1.01','1.19','1.47' ]\n",
    "}\n",
    "tabela_df = pd.DataFrame(dados)\n",
    "tabela_df['f1'] = tabela_df['f1'].astype(float)\n",
    "tabela_df['f2'] = tabela_df['f2'].astype(bool)\n",
    "tabela_df['f4'] = tabela_df['f4'].astype(float)\n",
    "print(tabela_df)"
   ]
  },
  {
   "cell_type": "code",
   "execution_count": null,
   "id": "ea461e95",
   "metadata": {},
   "outputs": [
    {
     "name": "stdout",
     "output_type": "stream",
     "text": [
      "moda da coluna f3: red \n"
     ]
    }
   ],
   "source": [
    "#Questao 2\n",
    "moda_f3 = tabela_df['f3'].mode()\n",
    "print(f\"moda da coluna f3: {moda_f3.iloc[0]} \")"
   ]
  },
  {
   "cell_type": "code",
   "execution_count": null,
   "id": "d9a218c5",
   "metadata": {},
   "outputs": [
    {
     "name": "stdout",
     "output_type": "stream",
     "text": [
      "Coluna f1:\n",
      "  Média: 1.1368\n",
      "  Mediana: 0.3800\n",
      "  Desvio Padrão: 1.1368\n",
      "  Variância: 1.2923\n",
      "\n",
      "Coluna f4:\n",
      "  Média: 6.5511\n",
      "  Mediana: 1.5250\n",
      "  Desvio Padrão: 6.5511\n",
      "  Variância: 42.9175\n",
      "\n"
     ]
    }
   ],
   "source": [
    "#Questao 3\n",
    "colunas = ['f1','f4']\n",
    "for col in colunas:\n",
    "    media = tabela_df[col].mean()\n",
    "    mediana = tabela_df[col].median()\n",
    "    desvio = media = tabela_df[col].std()\n",
    "    var = tabela_df[col].var()\n",
    "\n",
    "    print(f\"Coluna {col}:\")\n",
    "    print(f\"  Média: {media:.4f}\")\n",
    "    print(f\"  Mediana: {mediana:.4f}\")\n",
    "    print(f\"  Desvio Padrão: {desvio:.4f}\")\n",
    "    print(f\"  Variância: {var:.4f}\\n\")"
   ]
  },
  {
   "cell_type": "code",
   "execution_count": null,
   "id": "1b120206",
   "metadata": {},
   "outputs": [
    {
     "name": "stdout",
     "output_type": "stream",
     "text": [
      "Covariancia entre f1 e f4: 1.8754\n"
     ]
    }
   ],
   "source": [
    "#Questao 4\n",
    "cov_f1_f4 = tabela_df['f1'].cov(tabela_df['f4'])\n",
    "print(f\"Covariancia entre f1 e f4: {cov_f1_f4:.4f}\")"
   ]
  },
  {
   "cell_type": "code",
   "execution_count": null,
   "id": "3d382f4c",
   "metadata": {},
   "outputs": [
    {
     "name": "stdout",
     "output_type": "stream",
     "text": [
      "Correlação entre f1 e f4: 0.2518\n"
     ]
    }
   ],
   "source": [
    "#Questao 5\n",
    "cor_f1_f4 = tabela_df['f1'].corr(tabela_df['f4'])\n",
    "print(f\"Correlação entre f1 e f4: {cor_f1_f4:.4f}\")"
   ]
  },
  {
   "cell_type": "code",
   "execution_count": null,
   "id": "670c59b6",
   "metadata": {},
   "outputs": [],
   "source": [
    "df = pd.read_csv(\"C:\\Users\\User\\Club_Penguin\\penguins.csv \")"
   ]
  }
 ],
 "metadata": {
  "kernelspec": {
   "display_name": "venv (3.13.5)",
   "language": "python",
   "name": "python3"
  },
  "language_info": {
   "codemirror_mode": {
    "name": "ipython",
    "version": 3
   },
   "file_extension": ".py",
   "mimetype": "text/x-python",
   "name": "python",
   "nbconvert_exporter": "python",
   "pygments_lexer": "ipython3",
   "version": "3.13.5"
  }
 },
 "nbformat": 4,
 "nbformat_minor": 5
}
